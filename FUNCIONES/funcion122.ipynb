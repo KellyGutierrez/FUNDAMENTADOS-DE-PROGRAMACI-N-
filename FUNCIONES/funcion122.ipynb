{
  "nbformat": 4,
  "nbformat_minor": 0,
  "metadata": {
    "colab": {
      "name": "funcion122",
      "provenance": []
    },
    "kernelspec": {
      "name": "python3",
      "display_name": "Python 3"
    },
    "language_info": {
      "name": "python"
    }
  },
  "cells": [
    {
      "cell_type": "code",
      "metadata": {
        "id": "r07ngO8mOXuA"
      },
      "source": [
        "def largo(cadena):\n",
        "    return len(cadena)\n",
        "\n",
        "\n",
        "# bloque principal\n",
        "\n",
        "nombre1=input(\"Ingrese primer nombre:\")\n",
        "nombre2=input(\"Ingrese segundo nombre:\")\n",
        "la1=largo(nombre1)\n",
        "la2=largo(nombre2)\n",
        "if la1==la2:\n",
        "    print(\"Los nombres:\",nombre1,nombre2,\"tienen la misma cantidad de caracteres\")\n",
        "else:\n",
        "    if la1>la2:\n",
        "        print(nombre1,\"es mas largo\")\n",
        "    else:\n",
        "        print(nombre2,\"es mas largo\")"
      ],
      "execution_count": null,
      "outputs": []
    }
  ]
}