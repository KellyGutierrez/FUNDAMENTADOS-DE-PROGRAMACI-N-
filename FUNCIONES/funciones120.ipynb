{
  "nbformat": 4,
  "nbformat_minor": 0,
  "metadata": {
    "colab": {
      "name": "funciones120",
      "provenance": [],
      "collapsed_sections": []
    },
    "kernelspec": {
      "name": "python3",
      "display_name": "Python 3"
    },
    "language_info": {
      "name": "python"
    }
  },
  "cells": [
    {
      "cell_type": "code",
      "metadata": {
        "id": "SrcY-aWhNol3"
      },
      "source": [
        "def retornar_superficie(lado):\n",
        "    sup=lado*lado\n",
        "    return sup\n",
        "\n",
        "\n",
        "# bloque principal del programa\n",
        "\n",
        "va=int(input(\"Ingrese el valor del lado del cuafrado:\"))\n",
        "superficie=retornar_superficie(va)\n",
        "print(\"La superficie del cuadrado es\",superficie)"
      ],
      "execution_count": null,
      "outputs": []
    }
  ]
}