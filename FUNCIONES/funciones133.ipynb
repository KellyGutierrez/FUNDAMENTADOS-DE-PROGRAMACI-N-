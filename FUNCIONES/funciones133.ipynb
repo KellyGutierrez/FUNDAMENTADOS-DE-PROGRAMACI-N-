{
  "nbformat": 4,
  "nbformat_minor": 0,
  "metadata": {
    "colab": {
      "name": "funciones133",
      "provenance": []
    },
    "kernelspec": {
      "name": "python3",
      "display_name": "Python 3"
    },
    "language_info": {
      "name": "python"
    }
  },
  "cells": [
    {
      "cell_type": "code",
      "metadata": {
        "id": "gXBCYa0zPq9h"
      },
      "source": [
        "def carga_lista():\n",
        "    li=[]\n",
        "    for x in range(5):\n",
        "        valor=int(input(\"Ingrese valor:\"))\n",
        "        li.append(valor)\n",
        "    return li\n",
        "\n",
        "\n",
        "def retornar_mayormenor(li):\n",
        "    ma=li[0]\n",
        "    me=li[0]\n",
        "    for x in range(1,len(li)):\n",
        "        if li[x]>ma:\n",
        "            ma=li[x]\n",
        "        else:\n",
        "            if li[x]<me:\n",
        "                me=li[x]\n",
        "    return [ma,me]                \n",
        "\n",
        "\n",
        "# bloque principal del programa\n",
        "\n",
        "lista=carga_lista()\n",
        "rango=retornar_mayormenor(lista)\n",
        "print(\"Mayor elemento de la lista:\",rango[0])\n",
        "print(\"Menor elemento de la lista:\",rango[1])"
      ],
      "execution_count": null,
      "outputs": []
    }
  ]
}