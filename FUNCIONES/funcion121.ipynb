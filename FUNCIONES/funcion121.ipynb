{
  "nbformat": 4,
  "nbformat_minor": 0,
  "metadata": {
    "colab": {
      "name": "funcion121",
      "provenance": []
    },
    "kernelspec": {
      "name": "python3",
      "display_name": "Python 3"
    },
    "language_info": {
      "name": "python"
    }
  },
  "cells": [
    {
      "cell_type": "code",
      "metadata": {
        "id": "Aexszw6nOKMB"
      },
      "source": [
        "def retornar_mayor(v1,v2):\n",
        "    if v1>v2:\n",
        "        mayor=v1\n",
        "    else:\n",
        "        mayor=v2\n",
        "    return mayor\n",
        "\n",
        "\n",
        "# bloque principal\n",
        "valor1=int(input(\"Ingrese el primer valor:\"))\n",
        "valor2=int(input(\"Ingrese el segundo valor:\"))\n",
        "print(retornar_mayor(valor1,valor2))"
      ],
      "execution_count": null,
      "outputs": []
    }
  ]
}