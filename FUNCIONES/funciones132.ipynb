{
  "nbformat": 4,
  "nbformat_minor": 0,
  "metadata": {
    "colab": {
      "name": "funciones132",
      "provenance": []
    },
    "kernelspec": {
      "name": "python3",
      "display_name": "Python 3"
    },
    "language_info": {
      "name": "python"
    }
  },
  "cells": [
    {
      "cell_type": "code",
      "metadata": {
        "id": "wj9Yg_z2PDgo"
      },
      "source": [
        "def carga_lista():\n",
        "    li=[]\n",
        "    for x in range(5):\n",
        "        valor=int(input(\"Ingrese valor:\"))\n",
        "        li.append(valor)\n",
        "    return li\n",
        "\n",
        "\n",
        "def imprimir_mayor10(li):\n",
        "    print(\"Elementos de la lista mayores a 10\")\n",
        "    for x in range(len(li)):\n",
        "        if li[x]>10:\n",
        "            print(li[x])\n",
        "\n",
        "\n",
        "# bloque principal del programa"
      ],
      "execution_count": null,
      "outputs": []
    }
  ]
}