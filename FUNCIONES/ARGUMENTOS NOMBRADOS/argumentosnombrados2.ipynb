{
  "nbformat": 4,
  "nbformat_minor": 0,
  "metadata": {
    "colab": {
      "name": "argumentosnombrados2",
      "provenance": []
    },
    "kernelspec": {
      "name": "python3",
      "display_name": "Python 3"
    },
    "language_info": {
      "name": "python"
    }
  },
  "cells": [
    {
      "cell_type": "code",
      "metadata": {
        "id": "NTd50q8nTc-H"
      },
      "source": [
        "def cargar():\n",
        "    lista=[]\n",
        "    for x in range(10):\n",
        "        valor=int(input(\"Ingrese valor:\"))\n",
        "        lista.append(valor)\n",
        "    return lista\n",
        "\n",
        "\n",
        "def imprimir(lista):\n",
        "    for x in range(len(lista)):\n",
        "        print(lista[x], end=\",\")\n",
        "\n",
        "\n",
        "# bloque principal\n",
        "\n",
        "lista=cargar()\n",
        "imprimir(lista)"
      ],
      "execution_count": null,
      "outputs": []
    }
  ]
}