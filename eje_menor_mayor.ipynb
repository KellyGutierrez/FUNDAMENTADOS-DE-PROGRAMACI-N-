{
 "cells": [
  {
   "cell_type": "code",
   "execution_count": 1,
   "metadata": {},
   "outputs": [
    {
     "name": "stdout",
     "output_type": "stream",
     "text": [
      "Ingrese el primer numero:5\n",
      "ingrese el segundo numero :45\n",
      "ingrese el tercer numero: 16\n",
      "5\n",
      "16\n",
      "45\n"
     ]
    }
   ],
   "source": [
    "\n",
    "A=int(input(\"Ingrese el primer numero:\"))\n",
    "B=int(input(\"ingrese el segundo numero :\"))\n",
    "C=int(input(\"ingrese el tercer numero: \"))\n",
    "if A<B and A<C:\n",
    "  print(A)\n",
    "  if B<C:\n",
    "    print(B)\n",
    "    print(C)\n",
    "  else:\n",
    "    print(C)\n",
    "    print(B)\n",
    "elif B<A and B<C:\n",
    "  print(B)\n",
    "  if C<A:\n",
    "    print(C)\n",
    "    print(A)\n",
    "  else:\n",
    "    print(A)\n",
    "    print(C)\n",
    "elif C<A and C<B:\n",
    "  print(C)\n",
    "  if A<B:\n",
    "    print(A)\n",
    "    print(B)\n",
    "  else:\n",
    "    print(B)\n",
    "    print(A)\n",
    "             \n",
    "             \n",
    "    \n"
   ]
  },
  {
   "cell_type": "code",
   "execution_count": null,
   "metadata": {},
   "outputs": [],
   "source": []
  },
  {
   "cell_type": "code",
   "execution_count": null,
   "metadata": {},
   "outputs": [],
   "source": []
  }
 ],
 "metadata": {
  "kernelspec": {
   "display_name": "Python 3",
   "language": "python",
   "name": "python3"
  },
  "language_info": {
   "codemirror_mode": {
    "name": "ipython",
    "version": 3
   },
   "file_extension": ".py",
   "mimetype": "text/x-python",
   "name": "python",
   "nbconvert_exporter": "python",
   "pygments_lexer": "ipython3",
   "version": "3.8.5"
  }
 },
 "nbformat": 4,
 "nbformat_minor": 4
}
